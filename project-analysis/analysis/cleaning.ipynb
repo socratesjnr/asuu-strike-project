{
 "cells": [
  {
   "attachments": {},
   "cell_type": "markdown",
   "id": "ecb2862e",
   "metadata": {},
   "source": [
    "# Data Cleaning\n",
    "\n",
    "In this file, we are going to clean our data and save the created dataframes for future analysis.\n",
    "\n",
    "While we attempted to reduce the amount of cleaning required, via good survey design, there are still some cases that would require cleaning. "
   ]
  },
  {
   "attachments": {},
   "cell_type": "markdown",
   "id": "3a307f3e",
   "metadata": {},
   "source": [
    "## Import packages"
   ]
  },
  {
   "cell_type": "code",
   "execution_count": 1178,
   "id": "a87e6536",
   "metadata": {},
   "outputs": [],
   "source": [
    "import pandas as pd\n",
    "import numpy as np\n",
    "import matplotlib.pyplot as plt\n",
    "import seaborn as sns\n",
    "import utils\n",
    "from sklearn.ensemble import RandomForestRegressor\n",
    "from sklearn.tree import DecisionTreeRegressor\n",
    "from imblearn.over_sampling import RandomOverSampler\n",
    "from sklearn.metrics import mean_squared_error, r2_score, mean_absolute_error\n",
    "from sklearn.preprocessing import OneHotEncoder\n",
    "from sklearn.compose import ColumnTransformer\n",
    "from sklearn.linear_model import LinearRegression\n",
    "from sklearn.model_selection import train_test_split, GridSearchCV, cross_val_score"
   ]
  },
  {
   "attachments": {},
   "cell_type": "markdown",
   "id": "e65f635c",
   "metadata": {},
   "source": [
    "## Inspect data"
   ]
  },
  {
   "attachments": {},
   "cell_type": "markdown",
   "id": "8bccc2d6",
   "metadata": {},
   "source": [
    "Load data"
   ]
  },
  {
   "cell_type": "code",
   "execution_count": 1179,
   "id": "fcf268f8",
   "metadata": {},
   "outputs": [],
   "source": [
    "data_filepath = \"../data/strike_and_academic_performance.csv\"\n",
    "\n",
    "data = pd.read_csv(data_filepath)"
   ]
  },
  {
   "cell_type": "code",
   "execution_count": 1180,
   "id": "316b4a7d",
   "metadata": {},
   "outputs": [
    {
     "name": "stdout",
     "output_type": "stream",
     "text": [
      "<class 'pandas.core.frame.DataFrame'>\n",
      "RangeIndex: 431 entries, 0 to 430\n",
      "Data columns (total 21 columns):\n",
      " #   Column                                                                              Non-Null Count  Dtype  \n",
      "---  ------                                                                              --------------  -----  \n",
      " 0   Are you a student of the University of Lagos?                                       431 non-null    object \n",
      " 1   If not, what is your university/institution?                                        22 non-null     object \n",
      " 2   What is your current academic level?                                                431 non-null    object \n",
      " 3   How old are you?                                                                    431 non-null    int64  \n",
      " 4   What is your gender?                                                                431 non-null    object \n",
      " 5   What was your relationship status during the strike?                                431 non-null    object \n",
      " 6   What is your faculty?                                                               431 non-null    object \n",
      " 7   What is your department?                                                            431 non-null    object \n",
      " 8   Kindly input your department, if not listed in the previous question.               28 non-null     object \n",
      " 9   How has the ASUU strike affected you and your academic performance?                 345 non-null    object \n",
      " 10  What was the most challenging part of returning to academic life after the strike?  340 non-null    object \n",
      " 11  Did you undertake any work during the strike?                                       431 non-null    object \n",
      " 12  How did you develop yourself during the strike?                                     431 non-null    object \n",
      " 13  How prepared were you for the exams? [Before Strike]                                431 non-null    object \n",
      " 14  How prepared were you for the exams? [After Strike]                                 431 non-null    object \n",
      " 15  How were your lectures affected by the strike?                                      431 non-null    object \n",
      " 16  How often did you engage in academic activities during the strike?                  431 non-null    object \n",
      " 17  How many courses did you take in the affected semester?                             431 non-null    int64  \n",
      " 18  How many credit units did your courses add up to in the affected semester?          353 non-null    float64\n",
      " 19  What was your CGPA before the strike?                                               431 non-null    float64\n",
      " 20  What is your current CGPA?                                                          431 non-null    float64\n",
      "dtypes: float64(3), int64(2), object(16)\n",
      "memory usage: 70.8+ KB\n"
     ]
    }
   ],
   "source": [
    "data.info()"
   ]
  },
  {
   "attachments": {},
   "cell_type": "markdown",
   "id": "0619fa3e",
   "metadata": {},
   "source": [
    "Are there any missing values?"
   ]
  },
  {
   "cell_type": "code",
   "execution_count": 1181,
   "id": "3ab0624b",
   "metadata": {},
   "outputs": [
    {
     "data": {
      "text/plain": [
       "Are you a student of the University of Lagos?                                           0\n",
       "If not, what is your university/institution?                                          409\n",
       "What is your current academic level?                                                    0\n",
       "How old are you?                                                                        0\n",
       "What is your gender?                                                                    0\n",
       "What was your relationship status during the strike?                                    0\n",
       "What is your faculty?                                                                   0\n",
       "What is your department?                                                                0\n",
       "Kindly input your department, if not listed in the previous question.                 403\n",
       "How has the ASUU strike affected you and your academic performance?                    86\n",
       "What was the most challenging part of returning to academic life after the strike?     91\n",
       "Did you undertake any work during the strike?                                           0\n",
       "How did you develop yourself during the strike?                                         0\n",
       "How prepared were you for the exams? [Before Strike]                                    0\n",
       "How prepared were you for the exams? [After Strike]                                     0\n",
       "How were your lectures affected by the strike?                                          0\n",
       "How often did you engage in academic activities during the strike?                      0\n",
       "How many courses did you take in the affected semester?                                 0\n",
       "How many credit units did your courses add up to in the affected semester?             78\n",
       "What was your CGPA before the strike?                                                   0\n",
       "What is your current CGPA?                                                              0\n",
       "dtype: int64"
      ]
     },
     "execution_count": 1181,
     "metadata": {},
     "output_type": "execute_result"
    }
   ],
   "source": [
    "data.isna().sum()"
   ]
  },
  {
   "attachments": {},
   "cell_type": "markdown",
   "id": "ac1bd207",
   "metadata": {},
   "source": [
    "### Rename Columns\n",
    "The current column names are too long. Let's make them shorter for easier analysis."
   ]
  },
  {
   "cell_type": "code",
   "execution_count": 1182,
   "id": "6de003d8",
   "metadata": {},
   "outputs": [
    {
     "data": {
      "text/html": [
       "<div>\n",
       "<style scoped>\n",
       "    .dataframe tbody tr th:only-of-type {\n",
       "        vertical-align: middle;\n",
       "    }\n",
       "\n",
       "    .dataframe tbody tr th {\n",
       "        vertical-align: top;\n",
       "    }\n",
       "\n",
       "    .dataframe thead th {\n",
       "        text-align: right;\n",
       "    }\n",
       "</style>\n",
       "<table border=\"1\" class=\"dataframe\">\n",
       "  <thead>\n",
       "    <tr style=\"text-align: right;\">\n",
       "      <th></th>\n",
       "      <th>unilag</th>\n",
       "      <th>non_unilag</th>\n",
       "      <th>level</th>\n",
       "      <th>age</th>\n",
       "      <th>gender</th>\n",
       "      <th>relationship</th>\n",
       "      <th>faculty</th>\n",
       "      <th>department</th>\n",
       "      <th>other_dept</th>\n",
       "      <th>strike_effect</th>\n",
       "      <th>...</th>\n",
       "      <th>work</th>\n",
       "      <th>skills</th>\n",
       "      <th>prep_before</th>\n",
       "      <th>prep_after</th>\n",
       "      <th>lecture</th>\n",
       "      <th>academic_act</th>\n",
       "      <th>courses_taken</th>\n",
       "      <th>course_unit</th>\n",
       "      <th>cgpa_before</th>\n",
       "      <th>cgpa_after</th>\n",
       "    </tr>\n",
       "  </thead>\n",
       "  <tbody>\n",
       "    <tr>\n",
       "      <th>0</th>\n",
       "      <td>Yes</td>\n",
       "      <td>NaN</td>\n",
       "      <td>400 Level</td>\n",
       "      <td>22</td>\n",
       "      <td>Male</td>\n",
       "      <td>Single</td>\n",
       "      <td>Engineering</td>\n",
       "      <td>Chemical Engineering</td>\n",
       "      <td>NaN</td>\n",
       "      <td>I learned how to study better and my grades al...</td>\n",
       "      <td>...</td>\n",
       "      <td>Worked in a role relevant to my studies</td>\n",
       "      <td>Acquired skills unrelated to course of study</td>\n",
       "      <td>Poorly</td>\n",
       "      <td>Poorly</td>\n",
       "      <td>No noticeable change</td>\n",
       "      <td>Rarely: I engaged in academic activities once ...</td>\n",
       "      <td>10</td>\n",
       "      <td>23.0</td>\n",
       "      <td>3.39</td>\n",
       "      <td>3.51</td>\n",
       "    </tr>\n",
       "    <tr>\n",
       "      <th>1</th>\n",
       "      <td>Yes</td>\n",
       "      <td>NaN</td>\n",
       "      <td>400 Level</td>\n",
       "      <td>23</td>\n",
       "      <td>Female</td>\n",
       "      <td>Single</td>\n",
       "      <td>Engineering</td>\n",
       "      <td>Chemical Engineering</td>\n",
       "      <td>NaN</td>\n",
       "      <td>It affected it in a negative way as it became ...</td>\n",
       "      <td>...</td>\n",
       "      <td>Did not work during the strike</td>\n",
       "      <td>Acquired skills unrelated to course of study</td>\n",
       "      <td>Poorly</td>\n",
       "      <td>Moderately</td>\n",
       "      <td>No noticeable change</td>\n",
       "      <td>Rarely: I engaged in academic activities once ...</td>\n",
       "      <td>10</td>\n",
       "      <td>23.0</td>\n",
       "      <td>4.44</td>\n",
       "      <td>4.50</td>\n",
       "    </tr>\n",
       "  </tbody>\n",
       "</table>\n",
       "<p>2 rows × 21 columns</p>\n",
       "</div>"
      ],
      "text/plain": [
       "  unilag non_unilag      level  age  gender relationship      faculty  \\\n",
       "0    Yes        NaN  400 Level   22    Male       Single  Engineering   \n",
       "1    Yes        NaN  400 Level   23  Female       Single  Engineering   \n",
       "\n",
       "             department other_dept  \\\n",
       "0  Chemical Engineering        NaN   \n",
       "1  Chemical Engineering        NaN   \n",
       "\n",
       "                                       strike_effect  ...  \\\n",
       "0  I learned how to study better and my grades al...  ...   \n",
       "1  It affected it in a negative way as it became ...  ...   \n",
       "\n",
       "                                      work  \\\n",
       "0  Worked in a role relevant to my studies   \n",
       "1           Did not work during the strike   \n",
       "\n",
       "                                         skills prep_before  prep_after  \\\n",
       "0  Acquired skills unrelated to course of study      Poorly      Poorly   \n",
       "1  Acquired skills unrelated to course of study      Poorly  Moderately   \n",
       "\n",
       "                lecture                                       academic_act  \\\n",
       "0  No noticeable change  Rarely: I engaged in academic activities once ...   \n",
       "1  No noticeable change  Rarely: I engaged in academic activities once ...   \n",
       "\n",
       "  courses_taken  course_unit  cgpa_before  cgpa_after  \n",
       "0            10         23.0         3.39        3.51  \n",
       "1            10         23.0         4.44        4.50  \n",
       "\n",
       "[2 rows x 21 columns]"
      ]
     },
     "execution_count": 1182,
     "metadata": {},
     "output_type": "execute_result"
    }
   ],
   "source": [
    "# Rename multiple columns\n",
    "\n",
    "column_mapping = {\n",
    "    'Are you a student of the University of Lagos?': 'unilag',\n",
    "    'If not, what is your university/institution?': 'non_unilag',\n",
    "    'What is your current academic level?': 'level',\n",
    "    'How old are you?': 'age',\n",
    "    'What is your gender?': 'gender',\n",
    "    'What was your relationship status during the strike?': 'relationship',\n",
    "    'What is your faculty?': 'faculty',\n",
    "    'What is your department?': 'department',\n",
    "    'Kindly input your department, if not listed in the previous question. ': 'other_dept',\n",
    "    'How has the ASUU strike affected you and your academic performance?': 'strike_effect',\n",
    "    'What was the most challenging part of returning to academic life after the strike?': 'challenge',\n",
    "    'Did you undertake any work during the strike?': 'work',\n",
    "    'How did you develop yourself during the strike?': 'skills',\n",
    "    'How prepared were you for the exams? [Before Strike]': 'prep_before',\n",
    "    'How prepared were you for the exams? [After Strike]': 'prep_after',\n",
    "    'How were your lectures affected by the strike?': 'lecture',\n",
    "    'How often did you engage in academic activities during the strike?': 'academic_act',\n",
    "    'How many courses did you take in the affected semester? ': 'courses_taken',\n",
    "    'How many credit units did your courses add up to in the affected semester?': 'course_unit',\n",
    "    'What was your CGPA before the strike?': 'cgpa_before',\n",
    "    'What is your current CGPA?': 'cgpa_after'\n",
    "}\n",
    "\n",
    "data = data.rename(columns=column_mapping)\n",
    "\n",
    "data.head(2)"
   ]
  },
  {
   "attachments": {},
   "cell_type": "markdown",
   "id": "e44c2169",
   "metadata": {},
   "source": [
    "### Creating our target column\n",
    "Our target column in this analysis is the change in CGPA after the strike. We're trying to see if the strike had a positive or negative effect on the participants.\n",
    "\n",
    "If CGPA increases after the strike, it may be possible that the strike had a positive effect on the participants. And vice versa. "
   ]
  },
  {
   "cell_type": "code",
   "execution_count": 1183,
   "id": "0ebda94f",
   "metadata": {},
   "outputs": [],
   "source": [
    "#Creating our outcome variable column\n",
    "\n",
    "data['cgpa_change'] = data['cgpa_after'] - data['cgpa_before']"
   ]
  },
  {
   "attachments": {},
   "cell_type": "markdown",
   "id": "1cc634a1",
   "metadata": {},
   "source": [
    "## Solving the department debacle\n",
    "\n",
    "There are 2 columns for department `department` and `other_dept`, \n",
    "1. One contains the main department of individuals who had their department on the list while filling, and those that did not find theirs and had to specify\n",
    "2. We have to find a way to merge them, as clearly one of the columns aren't needed"
   ]
  },
  {
   "cell_type": "code",
   "execution_count": 1184,
   "id": "8749ce38",
   "metadata": {},
   "outputs": [
    {
     "data": {
      "text/plain": [
       "array(['Chemical Engineering', 'Political Science',\n",
       "       'Computer Engineering', 'Educational Foundations', 'Statistics',\n",
       "       'Geosciences', 'Science Tech. Education',\n",
       "       'Petroleum & Gas Engineering', 'Cell Biology & Genetics',\n",
       "       'Surveying & Geo-Informatics Engineering', 'Mathematics',\n",
       "       'Finance', 'Marine Science',\n",
       "       'Industrial Relations & Personnel Management',\n",
       "       'Mechanical Engineering', 'Mass Communication',\n",
       "       'Biomedical Engineering', 'Estate', 'Other',\n",
       "       'Biochemistry (Basic Medical Sciences)', 'Law', 'Medicine',\n",
       "       'Arts & Social Science Education', 'Zoology',\n",
       "       'Biochemistry (Sciences)', 'Education Administration', 'Botany',\n",
       "       'Economics', 'Systems Engineering', 'Psychology', 'Accounting',\n",
       "       'Physics', 'Radiology', 'Electrical & Electronics Engineering',\n",
       "       'Geography', 'Microbiology', 'Chemistry', 'Architecture',\n",
       "       'Biology Education', 'Human Kinetics & Health Education',\n",
       "       'Physiology', 'Adult Education',\n",
       "       'Civil & Environmental Engineering', 'Philosophy',\n",
       "       'Pharmaceutics & Pharmaceutical Technology', 'English',\n",
       "       'Quantity Surveying', 'Metallurgical & Materials Engineering',\n",
       "       'Actuarial Science & Insurance',\n",
       "       'European Languages & Integration Studies', 'Nursing',\n",
       "       'History & Strategic Studies', 'Computer Sciences', 'Building',\n",
       "       'Business Administration', 'Sociology', 'Restorative Dentistry',\n",
       "       'Medical Laboratory Science'], dtype=object)"
      ]
     },
     "execution_count": 1184,
     "metadata": {},
     "output_type": "execute_result"
    }
   ],
   "source": [
    "data.department.unique()"
   ]
  },
  {
   "cell_type": "code",
   "execution_count": 1185,
   "id": "b8f92fda",
   "metadata": {},
   "outputs": [
    {
     "data": {
      "text/plain": [
       "array([nan, 'Geophysics ', 'Radiography ', 'Biology Education ',\n",
       "       'FISHERIES ', 'Education and Biology ', 'Pharmacy ', 'Law ',\n",
       "       'Early childhood education ', 'Education Eng',\n",
       "       'Business Education ', 'Education ', 'Business Education',\n",
       "       'Religious Studies ', 'Technology and vocational education ',\n",
       "       'Communication and Language Arts ', 'Pharmacology ',\n",
       "       'Pharmacology, therapeutics and toxicology ', 'PHARMACY ',\n",
       "       'Pharmacy', 'Pharmacology', 'Mechatronics Engineering.',\n",
       "       'Banking and Finance ', 'Insurance ', 'Education foundation ',\n",
       "       'Art & Social Science Education '], dtype=object)"
      ]
     },
     "execution_count": 1185,
     "metadata": {},
     "output_type": "execute_result"
    }
   ],
   "source": [
    "data.other_dept.unique()"
   ]
  },
  {
   "attachments": {},
   "cell_type": "markdown",
   "id": "3dca86e5",
   "metadata": {},
   "source": [
    "Replace \"Other\" in `department` with the corresponding value from `other_dept`"
   ]
  },
  {
   "cell_type": "code",
   "execution_count": 1186,
   "id": "6d3e53b7",
   "metadata": {},
   "outputs": [],
   "source": [
    "data['department'] = data['department'].str.lower()\n",
    "data['other_dept'] = data['other_dept'].str.lower()\n",
    "\n",
    "\n",
    "data['department'] = data.apply(lambda row: row['other_dept'] if row['department'] == 'other' else row['department'], axis=1).str.capitalize()\n"
   ]
  },
  {
   "cell_type": "code",
   "execution_count": 1187,
   "id": "9583e630",
   "metadata": {},
   "outputs": [
    {
     "data": {
      "text/html": [
       "<div>\n",
       "<style scoped>\n",
       "    .dataframe tbody tr th:only-of-type {\n",
       "        vertical-align: middle;\n",
       "    }\n",
       "\n",
       "    .dataframe tbody tr th {\n",
       "        vertical-align: top;\n",
       "    }\n",
       "\n",
       "    .dataframe thead th {\n",
       "        text-align: right;\n",
       "    }\n",
       "</style>\n",
       "<table border=\"1\" class=\"dataframe\">\n",
       "  <thead>\n",
       "    <tr style=\"text-align: right;\">\n",
       "      <th></th>\n",
       "      <th>unilag</th>\n",
       "      <th>non_unilag</th>\n",
       "      <th>level</th>\n",
       "      <th>age</th>\n",
       "      <th>gender</th>\n",
       "      <th>relationship</th>\n",
       "      <th>faculty</th>\n",
       "      <th>department</th>\n",
       "      <th>other_dept</th>\n",
       "      <th>strike_effect</th>\n",
       "      <th>...</th>\n",
       "      <th>skills</th>\n",
       "      <th>prep_before</th>\n",
       "      <th>prep_after</th>\n",
       "      <th>lecture</th>\n",
       "      <th>academic_act</th>\n",
       "      <th>courses_taken</th>\n",
       "      <th>course_unit</th>\n",
       "      <th>cgpa_before</th>\n",
       "      <th>cgpa_after</th>\n",
       "      <th>cgpa_change</th>\n",
       "    </tr>\n",
       "  </thead>\n",
       "  <tbody>\n",
       "    <tr>\n",
       "      <th>51</th>\n",
       "      <td>Yes</td>\n",
       "      <td>NaN</td>\n",
       "      <td>200 Level</td>\n",
       "      <td>20</td>\n",
       "      <td>Male</td>\n",
       "      <td>Single</td>\n",
       "      <td>Pharmacy</td>\n",
       "      <td>NaN</td>\n",
       "      <td>NaN</td>\n",
       "      <td>NaN</td>\n",
       "      <td>...</td>\n",
       "      <td>Acquired skills unrelated to course of study</td>\n",
       "      <td>Moderately</td>\n",
       "      <td>Moderately</td>\n",
       "      <td>Fewer lecturers attended classes</td>\n",
       "      <td>Often: I engaged in academic activities regula...</td>\n",
       "      <td>7</td>\n",
       "      <td>NaN</td>\n",
       "      <td>5.0</td>\n",
       "      <td>4.89</td>\n",
       "      <td>-0.11</td>\n",
       "    </tr>\n",
       "    <tr>\n",
       "      <th>331</th>\n",
       "      <td>Yes</td>\n",
       "      <td>NaN</td>\n",
       "      <td>300 Level</td>\n",
       "      <td>22</td>\n",
       "      <td>Female</td>\n",
       "      <td>Single</td>\n",
       "      <td>Social Sciences</td>\n",
       "      <td>NaN</td>\n",
       "      <td>NaN</td>\n",
       "      <td>I am mentally tired</td>\n",
       "      <td>...</td>\n",
       "      <td>Volunteered for an event or organization, Acqu...</td>\n",
       "      <td>Moderately</td>\n",
       "      <td>Poorly</td>\n",
       "      <td>No noticeable change</td>\n",
       "      <td>Rarely: I engaged in academic activities once ...</td>\n",
       "      <td>7</td>\n",
       "      <td>18.0</td>\n",
       "      <td>0.0</td>\n",
       "      <td>0.00</td>\n",
       "      <td>0.00</td>\n",
       "    </tr>\n",
       "  </tbody>\n",
       "</table>\n",
       "<p>2 rows × 22 columns</p>\n",
       "</div>"
      ],
      "text/plain": [
       "    unilag non_unilag      level  age  gender relationship          faculty  \\\n",
       "51     Yes        NaN  200 Level   20    Male       Single         Pharmacy   \n",
       "331    Yes        NaN  300 Level   22  Female       Single  Social Sciences   \n",
       "\n",
       "    department other_dept         strike_effect  ...  \\\n",
       "51         NaN        NaN                   NaN  ...   \n",
       "331        NaN        NaN  I am mentally tired   ...   \n",
       "\n",
       "                                                skills prep_before  \\\n",
       "51        Acquired skills unrelated to course of study  Moderately   \n",
       "331  Volunteered for an event or organization, Acqu...  Moderately   \n",
       "\n",
       "     prep_after                           lecture  \\\n",
       "51   Moderately  Fewer lecturers attended classes   \n",
       "331      Poorly              No noticeable change   \n",
       "\n",
       "                                          academic_act courses_taken  \\\n",
       "51   Often: I engaged in academic activities regula...             7   \n",
       "331  Rarely: I engaged in academic activities once ...             7   \n",
       "\n",
       "    course_unit  cgpa_before  cgpa_after  cgpa_change  \n",
       "51          NaN          5.0        4.89        -0.11  \n",
       "331        18.0          0.0        0.00         0.00  \n",
       "\n",
       "[2 rows x 22 columns]"
      ]
     },
     "execution_count": 1187,
     "metadata": {},
     "output_type": "execute_result"
    }
   ],
   "source": [
    "#Deal with any missing data in this column\n",
    "data[data['department'].isna()]"
   ]
  },
  {
   "attachments": {},
   "cell_type": "markdown",
   "id": "0c78dd3d",
   "metadata": {},
   "source": [
    "There are two missing values here. We know that \"Pharmacy is the most common value in `other_dept` for Pharmcy students. Hence, we can replace the NaN there with it. "
   ]
  },
  {
   "cell_type": "code",
   "execution_count": 1188,
   "id": "aabe249b",
   "metadata": {},
   "outputs": [],
   "source": [
    "#For location 51\n",
    "data.loc[51, 'department'] = 'Pharmacy'"
   ]
  },
  {
   "attachments": {},
   "cell_type": "markdown",
   "id": "a89476ea",
   "metadata": {},
   "source": [
    "However, we have no context here and would have to drop."
   ]
  },
  {
   "cell_type": "code",
   "execution_count": 1189,
   "id": "8aacd036",
   "metadata": {},
   "outputs": [],
   "source": [
    "# Drop row with index 331 and reindex the DataFrame\n",
    "data.drop(331, inplace=True)\n",
    "data.reset_index(drop=True, inplace=True)"
   ]
  },
  {
   "attachments": {},
   "cell_type": "markdown",
   "id": "e6bc24a3",
   "metadata": {},
   "source": [
    "How many rows do we have in the data now?"
   ]
  },
  {
   "cell_type": "code",
   "execution_count": 1190,
   "id": "479a1fe8",
   "metadata": {},
   "outputs": [
    {
     "data": {
      "text/plain": [
       "430"
      ]
     },
     "execution_count": 1190,
     "metadata": {},
     "output_type": "execute_result"
    }
   ],
   "source": [
    "len(data['department'])"
   ]
  },
  {
   "attachments": {},
   "cell_type": "markdown",
   "id": "9d56d3e2",
   "metadata": {},
   "source": [
    "Now let's drop the other_dept column."
   ]
  },
  {
   "cell_type": "code",
   "execution_count": 1191,
   "id": "c911090d",
   "metadata": {},
   "outputs": [
    {
     "data": {
      "text/html": [
       "<div>\n",
       "<style scoped>\n",
       "    .dataframe tbody tr th:only-of-type {\n",
       "        vertical-align: middle;\n",
       "    }\n",
       "\n",
       "    .dataframe tbody tr th {\n",
       "        vertical-align: top;\n",
       "    }\n",
       "\n",
       "    .dataframe thead th {\n",
       "        text-align: right;\n",
       "    }\n",
       "</style>\n",
       "<table border=\"1\" class=\"dataframe\">\n",
       "  <thead>\n",
       "    <tr style=\"text-align: right;\">\n",
       "      <th></th>\n",
       "      <th>unilag</th>\n",
       "      <th>non_unilag</th>\n",
       "      <th>level</th>\n",
       "      <th>age</th>\n",
       "      <th>gender</th>\n",
       "      <th>relationship</th>\n",
       "      <th>faculty</th>\n",
       "      <th>department</th>\n",
       "      <th>strike_effect</th>\n",
       "      <th>challenge</th>\n",
       "      <th>...</th>\n",
       "      <th>skills</th>\n",
       "      <th>prep_before</th>\n",
       "      <th>prep_after</th>\n",
       "      <th>lecture</th>\n",
       "      <th>academic_act</th>\n",
       "      <th>courses_taken</th>\n",
       "      <th>course_unit</th>\n",
       "      <th>cgpa_before</th>\n",
       "      <th>cgpa_after</th>\n",
       "      <th>cgpa_change</th>\n",
       "    </tr>\n",
       "  </thead>\n",
       "  <tbody>\n",
       "    <tr>\n",
       "      <th>0</th>\n",
       "      <td>Yes</td>\n",
       "      <td>NaN</td>\n",
       "      <td>400 Level</td>\n",
       "      <td>22</td>\n",
       "      <td>Male</td>\n",
       "      <td>Single</td>\n",
       "      <td>Engineering</td>\n",
       "      <td>Chemical engineering</td>\n",
       "      <td>I learned how to study better and my grades al...</td>\n",
       "      <td>Trying to remember things we were taught befor...</td>\n",
       "      <td>...</td>\n",
       "      <td>Acquired skills unrelated to course of study</td>\n",
       "      <td>Poorly</td>\n",
       "      <td>Poorly</td>\n",
       "      <td>No noticeable change</td>\n",
       "      <td>Rarely: I engaged in academic activities once ...</td>\n",
       "      <td>10</td>\n",
       "      <td>23.0</td>\n",
       "      <td>3.39</td>\n",
       "      <td>3.51</td>\n",
       "      <td>0.12</td>\n",
       "    </tr>\n",
       "    <tr>\n",
       "      <th>1</th>\n",
       "      <td>Yes</td>\n",
       "      <td>NaN</td>\n",
       "      <td>400 Level</td>\n",
       "      <td>23</td>\n",
       "      <td>Female</td>\n",
       "      <td>Single</td>\n",
       "      <td>Engineering</td>\n",
       "      <td>Chemical engineering</td>\n",
       "      <td>It affected it in a negative way as it became ...</td>\n",
       "      <td>Rekindling the student in me, lol. Trying to g...</td>\n",
       "      <td>...</td>\n",
       "      <td>Acquired skills unrelated to course of study</td>\n",
       "      <td>Poorly</td>\n",
       "      <td>Moderately</td>\n",
       "      <td>No noticeable change</td>\n",
       "      <td>Rarely: I engaged in academic activities once ...</td>\n",
       "      <td>10</td>\n",
       "      <td>23.0</td>\n",
       "      <td>4.44</td>\n",
       "      <td>4.50</td>\n",
       "      <td>0.06</td>\n",
       "    </tr>\n",
       "  </tbody>\n",
       "</table>\n",
       "<p>2 rows × 21 columns</p>\n",
       "</div>"
      ],
      "text/plain": [
       "  unilag non_unilag      level  age  gender relationship      faculty  \\\n",
       "0    Yes        NaN  400 Level   22    Male       Single  Engineering   \n",
       "1    Yes        NaN  400 Level   23  Female       Single  Engineering   \n",
       "\n",
       "             department                                      strike_effect  \\\n",
       "0  Chemical engineering  I learned how to study better and my grades al...   \n",
       "1  Chemical engineering  It affected it in a negative way as it became ...   \n",
       "\n",
       "                                           challenge  ...  \\\n",
       "0  Trying to remember things we were taught befor...  ...   \n",
       "1  Rekindling the student in me, lol. Trying to g...  ...   \n",
       "\n",
       "                                         skills prep_before  prep_after  \\\n",
       "0  Acquired skills unrelated to course of study      Poorly      Poorly   \n",
       "1  Acquired skills unrelated to course of study      Poorly  Moderately   \n",
       "\n",
       "                lecture                                       academic_act  \\\n",
       "0  No noticeable change  Rarely: I engaged in academic activities once ...   \n",
       "1  No noticeable change  Rarely: I engaged in academic activities once ...   \n",
       "\n",
       "  courses_taken  course_unit  cgpa_before  cgpa_after  cgpa_change  \n",
       "0            10         23.0         3.39        3.51         0.12  \n",
       "1            10         23.0         4.44        4.50         0.06  \n",
       "\n",
       "[2 rows x 21 columns]"
      ]
     },
     "execution_count": 1191,
     "metadata": {},
     "output_type": "execute_result"
    }
   ],
   "source": [
    "data.drop(columns=['other_dept'], inplace=True)\n",
    "data.head(2)"
   ]
  },
  {
   "attachments": {},
   "cell_type": "markdown",
   "id": "fec92547",
   "metadata": {},
   "source": [
    "## Are the columns in the right data types?"
   ]
  },
  {
   "cell_type": "code",
   "execution_count": 1192,
   "id": "c3786523",
   "metadata": {},
   "outputs": [
    {
     "name": "stdout",
     "output_type": "stream",
     "text": [
      "<class 'pandas.core.frame.DataFrame'>\n",
      "RangeIndex: 430 entries, 0 to 429\n",
      "Data columns (total 21 columns):\n",
      " #   Column         Non-Null Count  Dtype  \n",
      "---  ------         --------------  -----  \n",
      " 0   unilag         430 non-null    string \n",
      " 1   non_unilag     22 non-null     string \n",
      " 2   level          430 non-null    string \n",
      " 3   age            430 non-null    Int64  \n",
      " 4   gender         430 non-null    string \n",
      " 5   relationship   430 non-null    string \n",
      " 6   faculty        430 non-null    string \n",
      " 7   department     430 non-null    string \n",
      " 8   strike_effect  344 non-null    string \n",
      " 9   challenge      339 non-null    string \n",
      " 10  work           430 non-null    string \n",
      " 11  skills         430 non-null    string \n",
      " 12  prep_before    430 non-null    string \n",
      " 13  prep_after     430 non-null    string \n",
      " 14  lecture        430 non-null    string \n",
      " 15  academic_act   430 non-null    string \n",
      " 16  courses_taken  430 non-null    Int64  \n",
      " 17  course_unit    352 non-null    Float64\n",
      " 18  cgpa_before    430 non-null    Float64\n",
      " 19  cgpa_after     430 non-null    Float64\n",
      " 20  cgpa_change    430 non-null    Float64\n",
      "dtypes: Float64(4), Int64(2), string(15)\n",
      "memory usage: 73.2 KB\n"
     ]
    }
   ],
   "source": [
    "data = data.convert_dtypes()\n",
    "\n",
    "data.info()"
   ]
  },
  {
   "attachments": {},
   "cell_type": "markdown",
   "id": "91a62a05",
   "metadata": {},
   "source": [
    "Let's make some further conversions. "
   ]
  },
  {
   "cell_type": "code",
   "execution_count": 1193,
   "id": "c7aa78b7",
   "metadata": {},
   "outputs": [
    {
     "name": "stdout",
     "output_type": "stream",
     "text": [
      "<class 'pandas.core.frame.DataFrame'>\n",
      "RangeIndex: 430 entries, 0 to 429\n",
      "Data columns (total 21 columns):\n",
      " #   Column         Non-Null Count  Dtype   \n",
      "---  ------         --------------  -----   \n",
      " 0   unilag         430 non-null    string  \n",
      " 1   non_unilag     22 non-null     string  \n",
      " 2   level          430 non-null    category\n",
      " 3   age            430 non-null    Int64   \n",
      " 4   gender         430 non-null    category\n",
      " 5   relationship   430 non-null    category\n",
      " 6   faculty        430 non-null    category\n",
      " 7   department     430 non-null    category\n",
      " 8   strike_effect  344 non-null    string  \n",
      " 9   challenge      339 non-null    string  \n",
      " 10  work           430 non-null    category\n",
      " 11  skills         430 non-null    string  \n",
      " 12  prep_before    430 non-null    category\n",
      " 13  prep_after     430 non-null    category\n",
      " 14  lecture        430 non-null    category\n",
      " 15  academic_act   430 non-null    category\n",
      " 16  courses_taken  430 non-null    Int64   \n",
      " 17  course_unit    352 non-null    Int64   \n",
      " 18  cgpa_before    430 non-null    Float64 \n",
      " 19  cgpa_after     430 non-null    Float64 \n",
      " 20  cgpa_change    430 non-null    Float64 \n",
      "dtypes: Float64(3), Int64(3), category(10), string(5)\n",
      "memory usage: 48.6 KB\n"
     ]
    }
   ],
   "source": [
    "# convert some columns to category\n",
    "cat_columns = [\n",
    "    \"level\", \"gender\", \"relationship\", \"faculty\", \"department\", \"work\",\"prep_before\", \"prep_after\", \"lecture\", \"academic_act\", \n",
    "    ]\n",
    "\n",
    "data[cat_columns] = data[cat_columns].astype('category')\n",
    "    \n",
    "# convert course_unit to integar\n",
    "data[\"course_unit\"] = data[\"course_unit\"].astype('Int64')\n",
    "    \n",
    "data.info()"
   ]
  },
  {
   "attachments": {},
   "cell_type": "markdown",
   "id": "c4b46083",
   "metadata": {},
   "source": [
    "## Unifying the schools\n",
    "\n",
    "Similar to the departmment debacle, we have two columns to merge. \n",
    "1. `unilag`: Contains a Yes/No option for students of the University of Lagos. \n",
    "2. `non_unilag`: Students not from the University of Lagos had to include their schools."
   ]
  },
  {
   "attachments": {},
   "cell_type": "markdown",
   "id": "fa3b9700",
   "metadata": {},
   "source": [
    "Which schools are represented in this dataset?"
   ]
  },
  {
   "cell_type": "code",
   "execution_count": 1194,
   "id": "4eb82b08",
   "metadata": {},
   "outputs": [
    {
     "data": {
      "text/plain": [
       "<StringArray>\n",
       "[                                                                       <NA>,\n",
       "                                                                       'Nil',\n",
       "                                                                   'UNILAG ',\n",
       "             'Federal University of Petroleum Resources Effurun Delta State',\n",
       "                                                           'OOU OGUN STATE ',\n",
       "                                                     'University of Ibadan ',\n",
       " 'Alex Ekwueme Federal University Ndufu-Alike Ikwo, Abakaliki Ebonyi State ',\n",
       "                                                      'University of ibadan',\n",
       "                                                    'Lagos state University',\n",
       "                                                                    'Funaab',\n",
       "                                                        'University of Uyo ',\n",
       "                                                       'University of Abuja',\n",
       "                                                                    'FUNAAB',\n",
       "                                                   'Lagos State University ',\n",
       "                                                    'Bayero University Kano',\n",
       "                                                     'University of Nigeria',\n",
       "                                             'University of Nigeria Nsukka ',\n",
       "                                                                        'UI',\n",
       "                                   'I am a student of university of Lagos. ',\n",
       "                                                      'University of Lagos ',\n",
       "                                                                      'I am']\n",
       "Length: 21, dtype: string"
      ]
     },
     "execution_count": 1194,
     "metadata": {},
     "output_type": "execute_result"
    }
   ],
   "source": [
    "data.non_unilag.unique()"
   ]
  },
  {
   "attachments": {},
   "cell_type": "markdown",
   "id": "b3ab5b0a",
   "metadata": {},
   "source": [
    "### Creating the school column.\n",
    "\n",
    "Let's create a variable, called school. If this variable is NaN, we replace the NaN with UNILAG. Then we drop the UNILAG column."
   ]
  },
  {
   "cell_type": "code",
   "execution_count": 1195,
   "id": "49ab30b3",
   "metadata": {},
   "outputs": [
    {
     "data": {
      "text/html": [
       "<div>\n",
       "<style scoped>\n",
       "    .dataframe tbody tr th:only-of-type {\n",
       "        vertical-align: middle;\n",
       "    }\n",
       "\n",
       "    .dataframe tbody tr th {\n",
       "        vertical-align: top;\n",
       "    }\n",
       "\n",
       "    .dataframe thead th {\n",
       "        text-align: right;\n",
       "    }\n",
       "</style>\n",
       "<table border=\"1\" class=\"dataframe\">\n",
       "  <thead>\n",
       "    <tr style=\"text-align: right;\">\n",
       "      <th></th>\n",
       "      <th>school</th>\n",
       "      <th>level</th>\n",
       "      <th>age</th>\n",
       "      <th>gender</th>\n",
       "      <th>relationship</th>\n",
       "      <th>faculty</th>\n",
       "      <th>department</th>\n",
       "      <th>strike_effect</th>\n",
       "      <th>challenge</th>\n",
       "      <th>work</th>\n",
       "      <th>skills</th>\n",
       "      <th>prep_before</th>\n",
       "      <th>prep_after</th>\n",
       "      <th>lecture</th>\n",
       "      <th>academic_act</th>\n",
       "      <th>courses_taken</th>\n",
       "      <th>course_unit</th>\n",
       "      <th>cgpa_before</th>\n",
       "      <th>cgpa_after</th>\n",
       "      <th>cgpa_change</th>\n",
       "    </tr>\n",
       "  </thead>\n",
       "  <tbody>\n",
       "    <tr>\n",
       "      <th>0</th>\n",
       "      <td>university of lagos</td>\n",
       "      <td>400 Level</td>\n",
       "      <td>22</td>\n",
       "      <td>Male</td>\n",
       "      <td>Single</td>\n",
       "      <td>Engineering</td>\n",
       "      <td>Chemical engineering</td>\n",
       "      <td>I learned how to study better and my grades al...</td>\n",
       "      <td>Trying to remember things we were taught befor...</td>\n",
       "      <td>Worked in a role relevant to my studies</td>\n",
       "      <td>Acquired skills unrelated to course of study</td>\n",
       "      <td>Poorly</td>\n",
       "      <td>Poorly</td>\n",
       "      <td>No noticeable change</td>\n",
       "      <td>Rarely: I engaged in academic activities once ...</td>\n",
       "      <td>10</td>\n",
       "      <td>23</td>\n",
       "      <td>3.39</td>\n",
       "      <td>3.51</td>\n",
       "      <td>0.12</td>\n",
       "    </tr>\n",
       "    <tr>\n",
       "      <th>1</th>\n",
       "      <td>university of lagos</td>\n",
       "      <td>400 Level</td>\n",
       "      <td>23</td>\n",
       "      <td>Female</td>\n",
       "      <td>Single</td>\n",
       "      <td>Engineering</td>\n",
       "      <td>Chemical engineering</td>\n",
       "      <td>It affected it in a negative way as it became ...</td>\n",
       "      <td>Rekindling the student in me, lol. Trying to g...</td>\n",
       "      <td>Did not work during the strike</td>\n",
       "      <td>Acquired skills unrelated to course of study</td>\n",
       "      <td>Poorly</td>\n",
       "      <td>Moderately</td>\n",
       "      <td>No noticeable change</td>\n",
       "      <td>Rarely: I engaged in academic activities once ...</td>\n",
       "      <td>10</td>\n",
       "      <td>23</td>\n",
       "      <td>4.44</td>\n",
       "      <td>4.5</td>\n",
       "      <td>0.06</td>\n",
       "    </tr>\n",
       "    <tr>\n",
       "      <th>2</th>\n",
       "      <td>nil</td>\n",
       "      <td>400 Level</td>\n",
       "      <td>21</td>\n",
       "      <td>Male</td>\n",
       "      <td>Dating</td>\n",
       "      <td>Engineering</td>\n",
       "      <td>Chemical engineering</td>\n",
       "      <td>It has actually helped me a bit. The extended ...</td>\n",
       "      <td>Readapting to school</td>\n",
       "      <td>Worked in a role unrelated to my studies</td>\n",
       "      <td>Volunteered for an event or organization, Acqu...</td>\n",
       "      <td>Moderately</td>\n",
       "      <td>Moderately</td>\n",
       "      <td>Fewer lecturers attended classes</td>\n",
       "      <td>Rarely: I engaged in academic activities once ...</td>\n",
       "      <td>10</td>\n",
       "      <td>23</td>\n",
       "      <td>3.54</td>\n",
       "      <td>3.61</td>\n",
       "      <td>0.07</td>\n",
       "    </tr>\n",
       "    <tr>\n",
       "      <th>3</th>\n",
       "      <td>university of lagos</td>\n",
       "      <td>400 Level</td>\n",
       "      <td>29</td>\n",
       "      <td>Male</td>\n",
       "      <td>Dating</td>\n",
       "      <td>Social Sciences</td>\n",
       "      <td>Political science</td>\n",
       "      <td>Good</td>\n",
       "      <td>Reading</td>\n",
       "      <td>Worked in a role unrelated to my studies</td>\n",
       "      <td>Acquired skills unrelated to course of study</td>\n",
       "      <td>Moderately</td>\n",
       "      <td>Very</td>\n",
       "      <td>No noticeable change</td>\n",
       "      <td>Rarely: I engaged in academic activities once ...</td>\n",
       "      <td>7</td>\n",
       "      <td>&lt;NA&gt;</td>\n",
       "      <td>3.86</td>\n",
       "      <td>3.96</td>\n",
       "      <td>0.1</td>\n",
       "    </tr>\n",
       "    <tr>\n",
       "      <th>4</th>\n",
       "      <td>university of lagos</td>\n",
       "      <td>100 Level</td>\n",
       "      <td>18</td>\n",
       "      <td>Female</td>\n",
       "      <td>Single</td>\n",
       "      <td>Engineering</td>\n",
       "      <td>Computer engineering</td>\n",
       "      <td>&lt;NA&gt;</td>\n",
       "      <td>&lt;NA&gt;</td>\n",
       "      <td>Worked in a role relevant to my studies</td>\n",
       "      <td>Volunteered for an event or organization, Acqu...</td>\n",
       "      <td>Moderately</td>\n",
       "      <td>Moderately</td>\n",
       "      <td>Fewer lecturers attended classes</td>\n",
       "      <td>Rarely: I engaged in academic activities once ...</td>\n",
       "      <td>8</td>\n",
       "      <td>18</td>\n",
       "      <td>0.0</td>\n",
       "      <td>4.28</td>\n",
       "      <td>4.28</td>\n",
       "    </tr>\n",
       "  </tbody>\n",
       "</table>\n",
       "</div>"
      ],
      "text/plain": [
       "                school      level  age  gender relationship          faculty  \\\n",
       "0  university of lagos  400 Level   22    Male       Single      Engineering   \n",
       "1  university of lagos  400 Level   23  Female       Single      Engineering   \n",
       "2                  nil  400 Level   21    Male       Dating      Engineering   \n",
       "3  university of lagos  400 Level   29    Male       Dating  Social Sciences   \n",
       "4  university of lagos  100 Level   18  Female       Single      Engineering   \n",
       "\n",
       "             department                                      strike_effect  \\\n",
       "0  Chemical engineering  I learned how to study better and my grades al...   \n",
       "1  Chemical engineering  It affected it in a negative way as it became ...   \n",
       "2  Chemical engineering  It has actually helped me a bit. The extended ...   \n",
       "3     Political science                                               Good   \n",
       "4  Computer engineering                                               <NA>   \n",
       "\n",
       "                                           challenge  \\\n",
       "0  Trying to remember things we were taught befor...   \n",
       "1  Rekindling the student in me, lol. Trying to g...   \n",
       "2                               Readapting to school   \n",
       "3                                           Reading    \n",
       "4                                               <NA>   \n",
       "\n",
       "                                       work  \\\n",
       "0   Worked in a role relevant to my studies   \n",
       "1            Did not work during the strike   \n",
       "2  Worked in a role unrelated to my studies   \n",
       "3  Worked in a role unrelated to my studies   \n",
       "4   Worked in a role relevant to my studies   \n",
       "\n",
       "                                              skills prep_before  prep_after  \\\n",
       "0       Acquired skills unrelated to course of study      Poorly      Poorly   \n",
       "1       Acquired skills unrelated to course of study      Poorly  Moderately   \n",
       "2  Volunteered for an event or organization, Acqu...  Moderately  Moderately   \n",
       "3       Acquired skills unrelated to course of study  Moderately        Very   \n",
       "4  Volunteered for an event or organization, Acqu...  Moderately  Moderately   \n",
       "\n",
       "                            lecture  \\\n",
       "0              No noticeable change   \n",
       "1              No noticeable change   \n",
       "2  Fewer lecturers attended classes   \n",
       "3              No noticeable change   \n",
       "4  Fewer lecturers attended classes   \n",
       "\n",
       "                                        academic_act  courses_taken  \\\n",
       "0  Rarely: I engaged in academic activities once ...             10   \n",
       "1  Rarely: I engaged in academic activities once ...             10   \n",
       "2  Rarely: I engaged in academic activities once ...             10   \n",
       "3  Rarely: I engaged in academic activities once ...              7   \n",
       "4  Rarely: I engaged in academic activities once ...              8   \n",
       "\n",
       "   course_unit  cgpa_before  cgpa_after  cgpa_change  \n",
       "0           23         3.39        3.51         0.12  \n",
       "1           23         4.44         4.5         0.06  \n",
       "2           23         3.54        3.61         0.07  \n",
       "3         <NA>         3.86        3.96          0.1  \n",
       "4           18          0.0        4.28         4.28  "
      ]
     },
     "execution_count": 1195,
     "metadata": {},
     "output_type": "execute_result"
    }
   ],
   "source": [
    "# rename non_unilag column to school\n",
    "data.rename(columns={\"non_unilag\":\"school\"}, inplace=True)\n",
    "\n",
    "# replace NaN with \"unilag\"\n",
    "data[\"school\"] = data[\"school\"].fillna(\"university of lagos\")\n",
    "\n",
    "# strip the column\n",
    "data[\"school\"] = data[\"school\"].str.lower().str.strip()\n",
    "\n",
    "# drop the \"unilag\" column\n",
    "data.drop(columns = \"unilag\", inplace=True)\n",
    "\n",
    "data.head()"
   ]
  },
  {
   "cell_type": "code",
   "execution_count": 1196,
   "id": "d5410848",
   "metadata": {},
   "outputs": [
    {
     "data": {
      "text/plain": [
       "<StringArray>\n",
       "[                                                     'university of lagos',\n",
       "                                                                      'nil',\n",
       "                                                                   'unilag',\n",
       "            'federal university of petroleum resources effurun delta state',\n",
       "                                                           'oou ogun state',\n",
       "                                                     'university of ibadan',\n",
       " 'alex ekwueme federal university ndufu-alike ikwo, abakaliki ebonyi state',\n",
       "                                                   'lagos state university',\n",
       "                                                                   'funaab',\n",
       "                                                        'university of uyo',\n",
       "                                                      'university of abuja',\n",
       "                                                   'bayero university kano',\n",
       "                                                    'university of nigeria',\n",
       "                                             'university of nigeria nsukka',\n",
       "                                                                       'ui',\n",
       "                                   'i am a student of university of lagos.',\n",
       "                                                                     'i am']\n",
       "Length: 17, dtype: string"
      ]
     },
     "execution_count": 1196,
     "metadata": {},
     "output_type": "execute_result"
    }
   ],
   "source": [
    "data[\"school\"].unique()"
   ]
  },
  {
   "attachments": {},
   "cell_type": "markdown",
   "id": "40827ae1",
   "metadata": {},
   "source": [
    "Cleaning the school column"
   ]
  },
  {
   "cell_type": "code",
   "execution_count": 1197,
   "id": "f8b42bbf",
   "metadata": {},
   "outputs": [
    {
     "data": {
      "text/plain": [
       "['university of lagos', 'federal university of petroleum resources eff..., 'oou ogun state', 'university of ibadan', 'alex ekwueme federal university ndufu-alike i..., ..., 'funaab', 'university of uyo', 'university of abuja', 'bayero university kano', 'university of nigeria']\n",
       "Length: 11\n",
       "Categories (11, object): ['alex ekwueme federal university ndufu-alike i..., 'bayero university kano', 'federal university of petroleum resources eff..., 'funaab', ..., 'university of ibadan', 'university of lagos', 'university of nigeria', 'university of uyo']"
      ]
     },
     "execution_count": 1197,
     "metadata": {},
     "output_type": "execute_result"
    }
   ],
   "source": [
    "def clean_school(row):\n",
    "    \"\"\"\n",
    "    Cleans the school name by mapping variations to standardized school names.\n",
    "\n",
    "    Parameters:\n",
    "        row (str): The input school name to be cleaned.\n",
    "\n",
    "    Returns:\n",
    "        str: The cleaned and standardized school name.\n",
    "    \"\"\"\n",
    "    if (\"unilag\" in row \n",
    "        or \"university of lagos\" in row \n",
    "        or \"i am\" in row \n",
    "        or \"nil\" in row):\n",
    "        return \"university of lagos\"\n",
    "    elif \"ui\" in row:\n",
    "        return \"university of ibadan\"\n",
    "    elif \"university of nigeria\" in row:\n",
    "        return \"university of nigeria\"\n",
    "    else:\n",
    "        return row\n",
    "        \n",
    "data[\"school\"] = data[\"school\"].apply(clean_school).astype('category')\n",
    "data[\"school\"].unique()"
   ]
  },
  {
   "attachments": {},
   "cell_type": "markdown",
   "id": "2d41fb20",
   "metadata": {},
   "source": [
    "How many students are from other schools?"
   ]
  },
  {
   "cell_type": "code",
   "execution_count": 1198,
   "id": "88bd3933",
   "metadata": {},
   "outputs": [
    {
     "data": {
      "text/plain": [
       "16"
      ]
     },
     "execution_count": 1198,
     "metadata": {},
     "output_type": "execute_result"
    }
   ],
   "source": [
    "len(data[data[\"school\"]!=\"university of lagos\"])"
   ]
  },
  {
   "attachments": {},
   "cell_type": "markdown",
   "id": "0e41d6b3",
   "metadata": {},
   "source": [
    "## Quest for Duplicates"
   ]
  },
  {
   "attachments": {},
   "cell_type": "markdown",
   "id": "0a6339b1",
   "metadata": {},
   "source": [
    "Are there any duplicates?"
   ]
  },
  {
   "cell_type": "code",
   "execution_count": 1199,
   "id": "c5d4d5e4",
   "metadata": {},
   "outputs": [
    {
     "data": {
      "text/html": [
       "<div>\n",
       "<style scoped>\n",
       "    .dataframe tbody tr th:only-of-type {\n",
       "        vertical-align: middle;\n",
       "    }\n",
       "\n",
       "    .dataframe tbody tr th {\n",
       "        vertical-align: top;\n",
       "    }\n",
       "\n",
       "    .dataframe thead th {\n",
       "        text-align: right;\n",
       "    }\n",
       "</style>\n",
       "<table border=\"1\" class=\"dataframe\">\n",
       "  <thead>\n",
       "    <tr style=\"text-align: right;\">\n",
       "      <th></th>\n",
       "      <th>school</th>\n",
       "      <th>level</th>\n",
       "      <th>age</th>\n",
       "      <th>gender</th>\n",
       "      <th>relationship</th>\n",
       "      <th>faculty</th>\n",
       "      <th>department</th>\n",
       "      <th>strike_effect</th>\n",
       "      <th>challenge</th>\n",
       "      <th>work</th>\n",
       "      <th>skills</th>\n",
       "      <th>prep_before</th>\n",
       "      <th>prep_after</th>\n",
       "      <th>lecture</th>\n",
       "      <th>academic_act</th>\n",
       "      <th>courses_taken</th>\n",
       "      <th>course_unit</th>\n",
       "      <th>cgpa_before</th>\n",
       "      <th>cgpa_after</th>\n",
       "      <th>cgpa_change</th>\n",
       "    </tr>\n",
       "  </thead>\n",
       "  <tbody>\n",
       "    <tr>\n",
       "      <th>160</th>\n",
       "      <td>university of lagos</td>\n",
       "      <td>400 Level</td>\n",
       "      <td>22</td>\n",
       "      <td>Female</td>\n",
       "      <td>Single</td>\n",
       "      <td>Education</td>\n",
       "      <td>Arts &amp; social science education</td>\n",
       "      <td>I just want to end all this..🥲</td>\n",
       "      <td>Having to return back to reading books and att...</td>\n",
       "      <td>Worked in a role unrelated to my studies</td>\n",
       "      <td>Acquired skills unrelated to course of study, ...</td>\n",
       "      <td>Moderately</td>\n",
       "      <td>Poorly</td>\n",
       "      <td>No noticeable change</td>\n",
       "      <td>Never: I did not engage in any academic activi...</td>\n",
       "      <td>8</td>\n",
       "      <td>16</td>\n",
       "      <td>3.69</td>\n",
       "      <td>2.34</td>\n",
       "      <td>-1.35</td>\n",
       "    </tr>\n",
       "  </tbody>\n",
       "</table>\n",
       "</div>"
      ],
      "text/plain": [
       "                  school      level  age  gender relationship    faculty  \\\n",
       "160  university of lagos  400 Level   22  Female       Single  Education   \n",
       "\n",
       "                          department                   strike_effect  \\\n",
       "160  Arts & social science education  I just want to end all this..🥲   \n",
       "\n",
       "                                             challenge  \\\n",
       "160  Having to return back to reading books and att...   \n",
       "\n",
       "                                         work  \\\n",
       "160  Worked in a role unrelated to my studies   \n",
       "\n",
       "                                                skills prep_before prep_after  \\\n",
       "160  Acquired skills unrelated to course of study, ...  Moderately     Poorly   \n",
       "\n",
       "                  lecture                                       academic_act  \\\n",
       "160  No noticeable change  Never: I did not engage in any academic activi...   \n",
       "\n",
       "     courses_taken  course_unit  cgpa_before  cgpa_after  cgpa_change  \n",
       "160              8           16         3.69        2.34        -1.35  "
      ]
     },
     "execution_count": 1199,
     "metadata": {},
     "output_type": "execute_result"
    }
   ],
   "source": [
    "#Search for duplicates\n",
    "\n",
    "data[data.duplicated()]"
   ]
  },
  {
   "cell_type": "code",
   "execution_count": 1200,
   "id": "1f35b919",
   "metadata": {},
   "outputs": [],
   "source": [
    "data = data.drop_duplicates(keep='first')\n",
    "data.reset_index(drop=True, inplace = True)"
   ]
  },
  {
   "attachments": {},
   "cell_type": "markdown",
   "id": "3d220af4",
   "metadata": {},
   "source": [
    "Checking missing values for each column, once more"
   ]
  },
  {
   "cell_type": "code",
   "execution_count": 1201,
   "id": "277680a6",
   "metadata": {},
   "outputs": [
    {
     "data": {
      "text/plain": [
       "school            0\n",
       "level             0\n",
       "age               0\n",
       "gender            0\n",
       "relationship      0\n",
       "faculty           0\n",
       "department        0\n",
       "strike_effect    86\n",
       "challenge        91\n",
       "work              0\n",
       "skills            0\n",
       "prep_before       0\n",
       "prep_after        0\n",
       "lecture           0\n",
       "academic_act      0\n",
       "courses_taken     0\n",
       "course_unit      78\n",
       "cgpa_before       0\n",
       "cgpa_after        0\n",
       "cgpa_change       0\n",
       "dtype: int64"
      ]
     },
     "execution_count": 1201,
     "metadata": {},
     "output_type": "execute_result"
    }
   ],
   "source": [
    "data.isna().sum()"
   ]
  },
  {
   "attachments": {},
   "cell_type": "markdown",
   "id": "a0d59186",
   "metadata": {},
   "source": [
    "Lots of missing values in the `strike_effect` and `challenge` columns. We'll deal with that later."
   ]
  },
  {
   "attachments": {},
   "cell_type": "markdown",
   "id": "f78bcbab",
   "metadata": {},
   "source": [
    "## Predicting missing course unit values\n",
    "\n",
    "Given the number of missing values in the course_unit column, we're going to create a simple model to predict the values."
   ]
  },
  {
   "attachments": {},
   "cell_type": "markdown",
   "id": "40280446",
   "metadata": {},
   "source": [
    "### Selecting relevant columns\n",
    "\n",
    "Select the relevant columns to predict `course_units`. These are dependent on `level`, `faculty`, `department`, and `course_taken` ."
   ]
  },
  {
   "cell_type": "code",
   "execution_count": 1202,
   "id": "ab150fe2",
   "metadata": {},
   "outputs": [
    {
     "name": "stdout",
     "output_type": "stream",
     "text": [
      "<class 'pandas.core.frame.DataFrame'>\n",
      "RangeIndex: 429 entries, 0 to 428\n",
      "Data columns (total 6 columns):\n",
      " #   Column         Non-Null Count  Dtype   \n",
      "---  ------         --------------  -----   \n",
      " 0   school         429 non-null    category\n",
      " 1   level          429 non-null    category\n",
      " 2   faculty        429 non-null    category\n",
      " 3   department     429 non-null    category\n",
      " 4   courses_taken  429 non-null    Int64   \n",
      " 5   course_unit    351 non-null    Int64   \n",
      "dtypes: Int64(2), category(4)\n",
      "memory usage: 13.4 KB\n"
     ]
    }
   ],
   "source": [
    "#select relevant columns\n",
    "course_unit_data  = data[[\"school\", \"level\", \"faculty\", \"department\", \"courses_taken\",\"course_unit\"]]\n",
    "course_unit_data.info()"
   ]
  },
  {
   "attachments": {},
   "cell_type": "markdown",
   "id": "867f952e",
   "metadata": {},
   "source": [
    "### Separating the valids from the invalids\n",
    "\n",
    "Now, we're going to separate the course unit data. We'll create two dataframes to house the given values and the missing values. We aim to use the known values to predict the unknown."
   ]
  },
  {
   "cell_type": "code",
   "execution_count": 1203,
   "id": "6d8c8a82",
   "metadata": {},
   "outputs": [],
   "source": [
    "# Prepare the data\n",
    "known_course_units = (course_unit_data[course_unit_data['course_unit'].notnull() & (course_unit_data['course_unit'] > 0)]\n",
    "             .reset_index(drop=True))\n",
    "unknown_course_units = course_unit_data[course_unit_data[\"course_unit\"].isnull()]"
   ]
  },
  {
   "cell_type": "markdown",
   "id": "43d0077c",
   "metadata": {},
   "source": [
    "### Creating our features and target\n",
    "\n",
    "Now we split the known course units to create our features and target."
   ]
  },
  {
   "cell_type": "code",
   "execution_count": 1204,
   "id": "81dc40a4",
   "metadata": {},
   "outputs": [
    {
     "name": "stdout",
     "output_type": "stream",
     "text": [
      "X shape:  (338, 5)\n",
      "y shape:  (338,)\n"
     ]
    }
   ],
   "source": [
    "# Split the data into features (X) and target (y)\n",
    "target = 'course_unit'\n",
    "\n",
    "X = known_course_units.drop(columns=[target])\n",
    "y = known_course_units[target].astype(np.int64)\n",
    "print(\"X shape: \", X.shape)\n",
    "print(\"y shape: \", y.shape)"
   ]
  },
  {
   "attachments": {},
   "cell_type": "markdown",
   "id": "b08d4a7f",
   "metadata": {},
   "source": [
    "### Encoding categorical variables\n",
    "\n",
    "Convert categorical columns to numerical representation for model"
   ]
  },
  {
   "cell_type": "code",
   "execution_count": 1205,
   "id": "cf87cb73",
   "metadata": {},
   "outputs": [],
   "source": [
    "# Define the columns that need to be encoded (categorical columns)\n",
    "categorical_cols = [ \"school\", 'level', 'faculty', 'department']\n",
    "\n",
    "# Define the preprocessor with OneHotEncoder for categorical columns\n",
    "encoder = OneHotEncoder(handle_unknown='ignore')\n",
    "preprocessor = ColumnTransformer(\n",
    "    transformers=[\n",
    "        ('cat', encoder, categorical_cols),\n",
    "    ],\n",
    "    remainder='passthrough'\n",
    ")\n",
    "\n",
    "# Convert categorical columns to numerical representation using OneHotEncoder\n",
    "X_encoded = preprocessor.fit_transform(X)"
   ]
  },
  {
   "cell_type": "markdown",
   "id": "88b697f1",
   "metadata": {},
   "source": [
    "### Oversampling\n",
    "\n",
    "This was done to deal with the class imbalance that exists in the school column."
   ]
  },
  {
   "cell_type": "code",
   "execution_count": 1206,
   "id": "01d16d79",
   "metadata": {},
   "outputs": [
    {
     "name": "stdout",
     "output_type": "stream",
     "text": [
      "X_resampled shape:  (1242, 105)\n",
      "y_resampled shape:  (1242,)\n"
     ]
    }
   ],
   "source": [
    "# Handling Imbalanced Data with RandomOverSampler\n",
    "ros = RandomOverSampler(random_state=42)\n",
    "X_resampled, y_resampled = ros.fit_resample(X_encoded, y)\n",
    "print(\"X_resampled shape: \", X_resampled.shape)\n",
    "print(\"y_resampled shape: \", y_resampled.shape)"
   ]
  },
  {
   "attachments": {},
   "cell_type": "markdown",
   "id": "925bc58c",
   "metadata": {},
   "source": [
    "### Training and test data\n",
    "\n",
    "Create training and test data"
   ]
  },
  {
   "cell_type": "code",
   "execution_count": 1207,
   "id": "67a509e1",
   "metadata": {},
   "outputs": [],
   "source": [
    "# Stratified Train-Test Split\n",
    "X_train, X_test, y_train, y_test = train_test_split(\n",
    "    X_resampled, \n",
    "    y_resampled, \n",
    "    test_size=0.2, \n",
    "    random_state=42, \n",
    "    stratify=y_resampled\n",
    "    )\n"
   ]
  },
  {
   "attachments": {},
   "cell_type": "markdown",
   "id": "fd24294f",
   "metadata": {},
   "source": [
    "### Time to train the model!"
   ]
  },
  {
   "cell_type": "code",
   "execution_count": 1208,
   "id": "6ba298b3",
   "metadata": {},
   "outputs": [
    {
     "data": {
      "text/html": [
       "<style>#sk-container-id-35 {color: black;background-color: white;}#sk-container-id-35 pre{padding: 0;}#sk-container-id-35 div.sk-toggleable {background-color: white;}#sk-container-id-35 label.sk-toggleable__label {cursor: pointer;display: block;width: 100%;margin-bottom: 0;padding: 0.3em;box-sizing: border-box;text-align: center;}#sk-container-id-35 label.sk-toggleable__label-arrow:before {content: \"▸\";float: left;margin-right: 0.25em;color: #696969;}#sk-container-id-35 label.sk-toggleable__label-arrow:hover:before {color: black;}#sk-container-id-35 div.sk-estimator:hover label.sk-toggleable__label-arrow:before {color: black;}#sk-container-id-35 div.sk-toggleable__content {max-height: 0;max-width: 0;overflow: hidden;text-align: left;background-color: #f0f8ff;}#sk-container-id-35 div.sk-toggleable__content pre {margin: 0.2em;color: black;border-radius: 0.25em;background-color: #f0f8ff;}#sk-container-id-35 input.sk-toggleable__control:checked~div.sk-toggleable__content {max-height: 200px;max-width: 100%;overflow: auto;}#sk-container-id-35 input.sk-toggleable__control:checked~label.sk-toggleable__label-arrow:before {content: \"▾\";}#sk-container-id-35 div.sk-estimator input.sk-toggleable__control:checked~label.sk-toggleable__label {background-color: #d4ebff;}#sk-container-id-35 div.sk-label input.sk-toggleable__control:checked~label.sk-toggleable__label {background-color: #d4ebff;}#sk-container-id-35 input.sk-hidden--visually {border: 0;clip: rect(1px 1px 1px 1px);clip: rect(1px, 1px, 1px, 1px);height: 1px;margin: -1px;overflow: hidden;padding: 0;position: absolute;width: 1px;}#sk-container-id-35 div.sk-estimator {font-family: monospace;background-color: #f0f8ff;border: 1px dotted black;border-radius: 0.25em;box-sizing: border-box;margin-bottom: 0.5em;}#sk-container-id-35 div.sk-estimator:hover {background-color: #d4ebff;}#sk-container-id-35 div.sk-parallel-item::after {content: \"\";width: 100%;border-bottom: 1px solid gray;flex-grow: 1;}#sk-container-id-35 div.sk-label:hover label.sk-toggleable__label {background-color: #d4ebff;}#sk-container-id-35 div.sk-serial::before {content: \"\";position: absolute;border-left: 1px solid gray;box-sizing: border-box;top: 0;bottom: 0;left: 50%;z-index: 0;}#sk-container-id-35 div.sk-serial {display: flex;flex-direction: column;align-items: center;background-color: white;padding-right: 0.2em;padding-left: 0.2em;position: relative;}#sk-container-id-35 div.sk-item {position: relative;z-index: 1;}#sk-container-id-35 div.sk-parallel {display: flex;align-items: stretch;justify-content: center;background-color: white;position: relative;}#sk-container-id-35 div.sk-item::before, #sk-container-id-35 div.sk-parallel-item::before {content: \"\";position: absolute;border-left: 1px solid gray;box-sizing: border-box;top: 0;bottom: 0;left: 50%;z-index: -1;}#sk-container-id-35 div.sk-parallel-item {display: flex;flex-direction: column;z-index: 1;position: relative;background-color: white;}#sk-container-id-35 div.sk-parallel-item:first-child::after {align-self: flex-end;width: 50%;}#sk-container-id-35 div.sk-parallel-item:last-child::after {align-self: flex-start;width: 50%;}#sk-container-id-35 div.sk-parallel-item:only-child::after {width: 0;}#sk-container-id-35 div.sk-dashed-wrapped {border: 1px dashed gray;margin: 0 0.4em 0.5em 0.4em;box-sizing: border-box;padding-bottom: 0.4em;background-color: white;}#sk-container-id-35 div.sk-label label {font-family: monospace;font-weight: bold;display: inline-block;line-height: 1.2em;}#sk-container-id-35 div.sk-label-container {text-align: center;}#sk-container-id-35 div.sk-container {/* jupyter's `normalize.less` sets `[hidden] { display: none; }` but bootstrap.min.css set `[hidden] { display: none !important; }` so we also need the `!important` here to be able to override the default hidden behavior on the sphinx rendered scikit-learn.org. See: https://github.com/scikit-learn/scikit-learn/issues/21755 */display: inline-block !important;position: relative;}#sk-container-id-35 div.sk-text-repr-fallback {display: none;}</style><div id=\"sk-container-id-35\" class=\"sk-top-container\"><div class=\"sk-text-repr-fallback\"><pre>RandomForestRegressor(random_state=42)</pre><b>In a Jupyter environment, please rerun this cell to show the HTML representation or trust the notebook. <br />On GitHub, the HTML representation is unable to render, please try loading this page with nbviewer.org.</b></div><div class=\"sk-container\" hidden><div class=\"sk-item\"><div class=\"sk-estimator sk-toggleable\"><input class=\"sk-toggleable__control sk-hidden--visually\" id=\"sk-estimator-id-51\" type=\"checkbox\" checked><label for=\"sk-estimator-id-51\" class=\"sk-toggleable__label sk-toggleable__label-arrow\">RandomForestRegressor</label><div class=\"sk-toggleable__content\"><pre>RandomForestRegressor(random_state=42)</pre></div></div></div></div></div>"
      ],
      "text/plain": [
       "RandomForestRegressor(random_state=42)"
      ]
     },
     "execution_count": 1208,
     "metadata": {},
     "output_type": "execute_result"
    }
   ],
   "source": [
    "# Train a Random Forest model on the training data\n",
    "model = RandomForestRegressor(random_state=42)\n",
    "model.fit(X_train, y_train)"
   ]
  },
  {
   "attachments": {},
   "cell_type": "markdown",
   "id": "adc7b011",
   "metadata": {},
   "source": [
    "### Model Evaluation"
   ]
  },
  {
   "cell_type": "markdown",
   "id": "c8a5ed3a",
   "metadata": {},
   "source": [
    "We're rounding the predicted values because the values predicted are float. But since course units are integar values, we want our predictions as integars."
   ]
  },
  {
   "cell_type": "code",
   "execution_count": 1209,
   "id": "14b1cf51",
   "metadata": {},
   "outputs": [],
   "source": [
    "# Predict on the test data\n",
    "y_test_pred = np.around(model.predict(X_test))"
   ]
  },
  {
   "attachments": {},
   "cell_type": "markdown",
   "id": "c1d0eada",
   "metadata": {},
   "source": [
    "How good is our model's prediction?\n",
    "\n",
    "Since this is a regression model, we are going to use mean squared error, root mean squared error, mean absolute error, and r-squared. "
   ]
  },
  {
   "cell_type": "code",
   "execution_count": 1210,
   "id": "c876171f",
   "metadata": {},
   "outputs": [
    {
     "name": "stdout",
     "output_type": "stream",
     "text": [
      "Mean Squared Error (MSE): 6.51\n",
      "Root Mean Squared Error (RMSE): 2.55\n",
      "Mean Absolute Error (MAE): 1.23\n",
      "R-squared (Coefficient of Determination): 0.9\n"
     ]
    }
   ],
   "source": [
    "# Calculate Mean Squared Error (MSE) on the test data\n",
    "mse_cu = mean_squared_error(y_test, y_test_pred)\n",
    "\n",
    "# Calculate R-squared (coefficient of determination) on the test data\n",
    "r2_cu = r2_score(y_test, y_test_pred)\n",
    "\n",
    "# Calculate Mean Absolute Error (MAE) on the test data\n",
    "mae_cu = mean_absolute_error(y_test, y_test_pred)\n",
    "\n",
    "# Calculate Root Mean Squared Error (RMSE) on the test data\n",
    "rmse_cu = np.sqrt(mean_squared_error(y_test, y_test_pred))\n",
    "\n",
    "print(\"Mean Squared Error (MSE):\", round(mse_cu, 2))\n",
    "print(\"Root Mean Squared Error (RMSE):\", round(rmse_cu, 2))\n",
    "print(\"Mean Absolute Error (MAE):\", round(mae_cu, 2))\n",
    "print(\"R-squared (Coefficient of Determination):\", round(r2_cu, 2))"
   ]
  },
  {
   "cell_type": "markdown",
   "id": "9b6825f9",
   "metadata": {},
   "source": [
    "What if we trained with more or less data?"
   ]
  },
  {
   "cell_type": "code",
   "execution_count": 1211,
   "id": "b26efba4",
   "metadata": {},
   "outputs": [],
   "source": [
    "sizes = range(10, 55, 2)\n",
    "t_sizes = []\n",
    "r2_scores = []\n",
    "rmse_scores = []\n",
    "\n",
    "for size in sizes:\n",
    "    # Stratified Train-Test Split\n",
    "    X_train, X_test, y_train, y_test = train_test_split(\n",
    "        X_resampled, \n",
    "        y_resampled, \n",
    "        test_size=size/100, \n",
    "        random_state=42, \n",
    "        stratify=y_resampled\n",
    "        )\n",
    "\n",
    "    # Train a Random Forest model on the training data\n",
    "    model = RandomForestRegressor(random_state=42)\n",
    "    model.fit(X_train, y_train)\n",
    "    # Predict on the test data\n",
    "    y_test_pred = np.around(model.predict(X_test))\n",
    "\n",
    "    # Calculate R-squared (coefficient of determination) on the test data\n",
    "    r2_cu = r2_score(y_test, y_test_pred)\n",
    "\n",
    "    # Calculate Root Mean Squared Error (RMSE) on the test data\n",
    "    rmse_cu = np.sqrt(mean_squared_error(y_test, y_test_pred))\n",
    "\n",
    "    r2_scores.append(r2_cu)\n",
    "    rmse_scores.append(rmse_cu)\n",
    "    t_sizes.append(size/100)"
   ]
  },
  {
   "cell_type": "code",
   "execution_count": 1212,
   "id": "828f8d34",
   "metadata": {},
   "outputs": [
    {
     "name": "stdout",
     "output_type": "stream",
     "text": [
      "Best R-squared: 0.9005428587837518\n",
      "Best Test Size: 0.22\n"
     ]
    }
   ],
   "source": [
    "best_r2 = max(r2_scores)\n",
    "best_r2_index = np.isclose(r2_scores, best_r2).argmax()\n",
    "best_test_size = t_sizes[best_r2_index]\n",
    "\n",
    "print(f\"Best R-squared: {best_r2}\")\n",
    "print(f\"Best Test Size: {best_test_size}\")"
   ]
  },
  {
   "cell_type": "code",
   "execution_count": 1213,
   "id": "3b335d5a",
   "metadata": {},
   "outputs": [
    {
     "data": {
      "text/plain": [
       "Text(0.5, 1.0, 'Plot of Test R^2 vs Test Size')"
      ]
     },
     "execution_count": 1213,
     "metadata": {},
     "output_type": "execute_result"
    },
    {
     "data": {
      "image/png": "[encoded data removed]",
      "text/plain": [
       "<Figure size 640x480 with 1 Axes>"
      ]
     },
     "metadata": {},
     "output_type": "display_data"
    }
   ],
   "source": [
    "plt.plot(t_sizes, r2_scores)\n",
    "plt.xlabel(\"Test Size\")\n",
    "plt.ylabel(\"Test R^2\")\n",
    "plt.title(\"Plot of Test R^2 vs Test Size\")"
   ]
  },
  {
   "attachments": {},
   "cell_type": "markdown",
   "id": "712f3b39",
   "metadata": {},
   "source": [
    "### Time to predict the missing values"
   ]
  },
  {
   "cell_type": "markdown",
   "id": "67f76344",
   "metadata": {},
   "source": [
    "We'll use the trained model to predict the missing values. To do this, we need to use the preprocessor on the unknown course unit dataframe and drop our target."
   ]
  },
  {
   "cell_type": "code",
   "execution_count": 1214,
   "id": "3cec648b",
   "metadata": {},
   "outputs": [],
   "source": [
    "# Use the trained model to predict the missing values\n",
    "X_unknown_encoded = preprocessor.transform(unknown_course_units.drop(columns=[target]))\n",
    "y_pred = model.predict(X_unknown_encoded)"
   ]
  },
  {
   "cell_type": "markdown",
   "id": "9b10bdcc",
   "metadata": {},
   "source": [
    "Now we'll update the course_data with the corrected values."
   ]
  },
  {
   "cell_type": "code",
   "execution_count": 1215,
   "id": "f28f14c9",
   "metadata": {},
   "outputs": [
    {
     "data": {
      "text/html": [
       "<div>\n",
       "<style scoped>\n",
       "    .dataframe tbody tr th:only-of-type {\n",
       "        vertical-align: middle;\n",
       "    }\n",
       "\n",
       "    .dataframe tbody tr th {\n",
       "        vertical-align: top;\n",
       "    }\n",
       "\n",
       "    .dataframe thead th {\n",
       "        text-align: right;\n",
       "    }\n",
       "</style>\n",
       "<table border=\"1\" class=\"dataframe\">\n",
       "  <thead>\n",
       "    <tr style=\"text-align: right;\">\n",
       "      <th></th>\n",
       "      <th>school</th>\n",
       "      <th>level</th>\n",
       "      <th>faculty</th>\n",
       "      <th>department</th>\n",
       "      <th>courses_taken</th>\n",
       "      <th>course_unit</th>\n",
       "    </tr>\n",
       "  </thead>\n",
       "  <tbody>\n",
       "    <tr>\n",
       "      <th>0</th>\n",
       "      <td>university of lagos</td>\n",
       "      <td>400 Level</td>\n",
       "      <td>Engineering</td>\n",
       "      <td>Chemical engineering</td>\n",
       "      <td>10</td>\n",
       "      <td>23</td>\n",
       "    </tr>\n",
       "    <tr>\n",
       "      <th>1</th>\n",
       "      <td>university of lagos</td>\n",
       "      <td>400 Level</td>\n",
       "      <td>Engineering</td>\n",
       "      <td>Chemical engineering</td>\n",
       "      <td>10</td>\n",
       "      <td>23</td>\n",
       "    </tr>\n",
       "    <tr>\n",
       "      <th>2</th>\n",
       "      <td>university of lagos</td>\n",
       "      <td>400 Level</td>\n",
       "      <td>Engineering</td>\n",
       "      <td>Chemical engineering</td>\n",
       "      <td>10</td>\n",
       "      <td>23</td>\n",
       "    </tr>\n",
       "    <tr>\n",
       "      <th>3</th>\n",
       "      <td>university of lagos</td>\n",
       "      <td>400 Level</td>\n",
       "      <td>Social Sciences</td>\n",
       "      <td>Political science</td>\n",
       "      <td>7</td>\n",
       "      <td>8</td>\n",
       "    </tr>\n",
       "    <tr>\n",
       "      <th>4</th>\n",
       "      <td>university of lagos</td>\n",
       "      <td>100 Level</td>\n",
       "      <td>Engineering</td>\n",
       "      <td>Computer engineering</td>\n",
       "      <td>8</td>\n",
       "      <td>18</td>\n",
       "    </tr>\n",
       "  </tbody>\n",
       "</table>\n",
       "</div>"
      ],
      "text/plain": [
       "                school      level          faculty            department  \\\n",
       "0  university of lagos  400 Level      Engineering  Chemical engineering   \n",
       "1  university of lagos  400 Level      Engineering  Chemical engineering   \n",
       "2  university of lagos  400 Level      Engineering  Chemical engineering   \n",
       "3  university of lagos  400 Level  Social Sciences     Political science   \n",
       "4  university of lagos  100 Level      Engineering  Computer engineering   \n",
       "\n",
       "   courses_taken  course_unit  \n",
       "0             10           23  \n",
       "1             10           23  \n",
       "2             10           23  \n",
       "3              7            8  \n",
       "4              8           18  "
      ]
     },
     "execution_count": 1215,
     "metadata": {},
     "output_type": "execute_result"
    }
   ],
   "source": [
    "# Assign the predicted values to the null data\n",
    "course_unit_data.loc[course_unit_data['course_unit'].isnull(), 'course_unit'] = np.around(y_pred)\n",
    "course_unit_data.head()"
   ]
  },
  {
   "attachments": {},
   "cell_type": "markdown",
   "id": "2988ee04",
   "metadata": {},
   "source": [
    "#### Merging the predicted values\n",
    "\n",
    "Now let's merge the predicted values to the general dataframe."
   ]
  },
  {
   "attachments": {},
   "cell_type": "markdown",
   "id": "1b62ce30",
   "metadata": {},
   "source": [
    "Create a copy of the previous dataframe, to prevent errors."
   ]
  },
  {
   "cell_type": "code",
   "execution_count": 1216,
   "id": "65bcf2e3",
   "metadata": {},
   "outputs": [],
   "source": [
    "df_clean = data.copy()"
   ]
  },
  {
   "attachments": {},
   "cell_type": "markdown",
   "id": "97da8827",
   "metadata": {},
   "source": [
    "Add the predicted values."
   ]
  },
  {
   "cell_type": "code",
   "execution_count": 1218,
   "id": "af8bd3a6",
   "metadata": {},
   "outputs": [
    {
     "name": "stdout",
     "output_type": "stream",
     "text": [
      "<class 'pandas.core.frame.DataFrame'>\n",
      "RangeIndex: 429 entries, 0 to 428\n",
      "Data columns (total 20 columns):\n",
      " #   Column         Non-Null Count  Dtype   \n",
      "---  ------         --------------  -----   \n",
      " 0   school         429 non-null    category\n",
      " 1   level          429 non-null    category\n",
      " 2   age            429 non-null    Int64   \n",
      " 3   gender         429 non-null    category\n",
      " 4   relationship   429 non-null    category\n",
      " 5   faculty        429 non-null    category\n",
      " 6   department     429 non-null    category\n",
      " 7   strike_effect  343 non-null    string  \n",
      " 8   challenge      338 non-null    string  \n",
      " 9   work           429 non-null    category\n",
      " 10  skills         429 non-null    string  \n",
      " 11  prep_before    429 non-null    category\n",
      " 12  prep_after     429 non-null    category\n",
      " 13  lecture        429 non-null    category\n",
      " 14  academic_act   429 non-null    category\n",
      " 15  courses_taken  429 non-null    Int64   \n",
      " 16  course_unit    429 non-null    Int64   \n",
      " 17  cgpa_before    429 non-null    Float64 \n",
      " 18  cgpa_after     429 non-null    Float64 \n",
      " 19  cgpa_change    429 non-null    Float64 \n",
      "dtypes: Float64(3), Int64(3), category(11), string(3)\n",
      "memory usage: 42.6 KB\n"
     ]
    }
   ],
   "source": [
    "df_clean.loc[course_unit_data.index, \"course_unit\"] = course_unit_data[\"course_unit\"]\n",
    "\n",
    "df_clean.info()"
   ]
  },
  {
   "attachments": {},
   "cell_type": "markdown",
   "id": "a4010aec",
   "metadata": {},
   "source": [
    "## Addressing cases of No CGPA\n",
    "\n",
    "Since the 2022 ASUU strike occured in the first semester, we expect that newly admitted students won't have a CGPA before the strike. In such cases, the participants were told to input \"0\"."
   ]
  },
  {
   "cell_type": "code",
   "execution_count": 1219,
   "id": "46d57eff",
   "metadata": {},
   "outputs": [
    {
     "name": "stdout",
     "output_type": "stream",
     "text": [
      "<class 'pandas.core.frame.DataFrame'>\n",
      "Int64Index: 109 entries, 4 to 427\n",
      "Data columns (total 20 columns):\n",
      " #   Column         Non-Null Count  Dtype   \n",
      "---  ------         --------------  -----   \n",
      " 0   school         109 non-null    category\n",
      " 1   level          109 non-null    category\n",
      " 2   age            109 non-null    Int64   \n",
      " 3   gender         109 non-null    category\n",
      " 4   relationship   109 non-null    category\n",
      " 5   faculty        109 non-null    category\n",
      " 6   department     109 non-null    category\n",
      " 7   strike_effect  83 non-null     string  \n",
      " 8   challenge      81 non-null     string  \n",
      " 9   work           109 non-null    category\n",
      " 10  skills         109 non-null    string  \n",
      " 11  prep_before    109 non-null    category\n",
      " 12  prep_after     109 non-null    category\n",
      " 13  lecture        109 non-null    category\n",
      " 14  academic_act   109 non-null    category\n",
      " 15  courses_taken  109 non-null    Int64   \n",
      " 16  course_unit    109 non-null    Int64   \n",
      " 17  cgpa_before    109 non-null    Float64 \n",
      " 18  cgpa_after     109 non-null    Float64 \n",
      " 19  cgpa_change    109 non-null    Float64 \n",
      "dtypes: Float64(3), Int64(3), category(11), string(3)\n",
      "memory usage: 15.5 KB\n"
     ]
    }
   ],
   "source": [
    "#Extract a dataframe of individuals who had no cgpa before but cgpa after\n",
    "\n",
    "no_cgpa_before = df_clean[df_clean['cgpa_before'] == 0]\n",
    "\n",
    "no_cgpa_before.info()"
   ]
  },
  {
   "attachments": {},
   "cell_type": "markdown",
   "id": "da760f11",
   "metadata": {},
   "source": [
    "### No CGPA After? \n",
    "At the time of this survey, some students were yet to see their results. Hence, they filled in 0 in the CGPA After column. While their comments may be useful, we can't use the value they inputed in analysis. Therefore, we have to address this."
   ]
  },
  {
   "attachments": {},
   "cell_type": "markdown",
   "id": "0ec9f022",
   "metadata": {},
   "source": [
    "What proportion of students in the dataframe are victims of this?"
   ]
  },
  {
   "cell_type": "code",
   "execution_count": 1220,
   "id": "80b18006",
   "metadata": {},
   "outputs": [
    {
     "data": {
      "text/plain": [
       "'About 9% of students were affected'"
      ]
     },
     "execution_count": 1220,
     "metadata": {},
     "output_type": "execute_result"
    }
   ],
   "source": [
    "percent_affected = len(df_clean[df_clean['cgpa_after'] == 0])/len(data) * 100\n",
    "\n",
    "f\"About {round(percent_affected)}% of students were affected\""
   ]
  },
  {
   "attachments": {},
   "cell_type": "markdown",
   "id": "d5158f4a",
   "metadata": {},
   "source": [
    "How many students have complete info?"
   ]
  },
  {
   "cell_type": "code",
   "execution_count": 1221,
   "id": "8fa4b59e",
   "metadata": {},
   "outputs": [
    {
     "data": {
      "text/plain": [
       "313"
      ]
     },
     "execution_count": 1221,
     "metadata": {},
     "output_type": "execute_result"
    }
   ],
   "source": [
    "len(data[(df_clean['cgpa_before'] != 0.00) & (df_clean['cgpa_after'] != 0)])"
   ]
  },
  {
   "attachments": {},
   "cell_type": "markdown",
   "id": "91584cf9",
   "metadata": {},
   "source": [
    "### Valid CGPA\n",
    "\n",
    "Now we have a dataframe of students with valid CGPAs. That is, neither CGPA before nor CGPA after = 0."
   ]
  },
  {
   "cell_type": "code",
   "execution_count": 1222,
   "id": "34522b9e",
   "metadata": {},
   "outputs": [],
   "source": [
    "df_valid_cgpa = df_clean[(df_clean['cgpa_before'] != 0.00) & (df_clean['cgpa_after'] != 0)]"
   ]
  },
  {
   "cell_type": "code",
   "execution_count": 1223,
   "id": "d07771fb",
   "metadata": {},
   "outputs": [
    {
     "name": "stdout",
     "output_type": "stream",
     "text": [
      "<class 'pandas.core.frame.DataFrame'>\n",
      "Int64Index: 313 entries, 0 to 428\n",
      "Data columns (total 20 columns):\n",
      " #   Column         Non-Null Count  Dtype   \n",
      "---  ------         --------------  -----   \n",
      " 0   school         313 non-null    category\n",
      " 1   level          313 non-null    category\n",
      " 2   age            313 non-null    Int64   \n",
      " 3   gender         313 non-null    category\n",
      " 4   relationship   313 non-null    category\n",
      " 5   faculty        313 non-null    category\n",
      " 6   department     313 non-null    category\n",
      " 7   strike_effect  253 non-null    string  \n",
      " 8   challenge      250 non-null    string  \n",
      " 9   work           313 non-null    category\n",
      " 10  skills         313 non-null    string  \n",
      " 11  prep_before    313 non-null    category\n",
      " 12  prep_after     313 non-null    category\n",
      " 13  lecture        313 non-null    category\n",
      " 14  academic_act   313 non-null    category\n",
      " 15  courses_taken  313 non-null    Int64   \n",
      " 16  course_unit    313 non-null    Int64   \n",
      " 17  cgpa_before    313 non-null    Float64 \n",
      " 18  cgpa_after     313 non-null    Float64 \n",
      " 19  cgpa_change    313 non-null    Float64 \n",
      "dtypes: Float64(3), Int64(3), category(11), string(3)\n",
      "memory usage: 34.8 KB\n"
     ]
    }
   ],
   "source": [
    "#Checking data information\n",
    "df_valid_cgpa.info()"
   ]
  },
  {
   "attachments": {},
   "cell_type": "markdown",
   "id": "cff4802e",
   "metadata": {},
   "source": [
    "## Saving our dataframes!\n",
    "\n",
    "Now that we're done cleaning, it's time to save all our dataframes for use in the analysis files!"
   ]
  },
  {
   "cell_type": "code",
   "execution_count": 1224,
   "id": "43c9960b",
   "metadata": {},
   "outputs": [],
   "source": [
    "# cleaned data before course unit prediction and removal of invalid cgpa\n",
    "data.to_csv(\"../data/data_without_predicted_course_units.csv\", header=True, index=False)\n",
    "\n",
    "# cleaned data after course unit prediction\n",
    "df_clean.to_csv(\"../data/data_with_predicted_course_units.csv\", header=True, index=False)\n",
    "\n",
    "# contains students lacking complete cgpa info and predicted course units\n",
    "no_cgpa_before.to_csv(\"../data/incomplete_cgpa_only.csv\", header=True, index=False)\n",
    "\n",
    "# contains only valid cgpa and predicted course units\n",
    "df_valid_cgpa.to_csv(\"../data/valid_cgpa_only.csv\", header=True, index=False)"
   ]
  }
 ],
 "metadata": {
  "kernelspec": {
   "display_name": "Python 3 (ipykernel)",
   "language": "python",
   "name": "python3"
  },
  "language_info": {
   "codemirror_mode": {
    "name": "ipython",
    "version": 3
   },
   "file_extension": ".py",
   "mimetype": "text/x-python",
   "name": "python",
   "nbconvert_exporter": "python",
   "pygments_lexer": "ipython3",
   "version": "3.10.5"
  }
 },
 "nbformat": 4,
 "nbformat_minor": 5
}
